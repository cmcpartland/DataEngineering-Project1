{
 "cells": [
  {
   "cell_type": "code",
   "execution_count": 1,
   "metadata": {},
   "outputs": [],
   "source": [
    "import os\n",
    "import glob\n",
    "import psycopg2\n",
    "import pandas as pd\n",
    "from sql_queries import *\n",
    "import credentials"
   ]
  },
  {
   "cell_type": "code",
   "execution_count": 2,
   "metadata": {},
   "outputs": [],
   "source": [
    "conn = psycopg2.connect(\"host=127.0.0.1 dbname=sparkifydb user=%s password=%s\" \\\n",
    "                            % (credentials.USER, credentials.PASSWORD))\n",
    "cur = conn.cursor()"
   ]
  },
  {
   "cell_type": "code",
   "execution_count": 3,
   "metadata": {},
   "outputs": [
    {
     "name": "stdout",
     "output_type": "stream",
     "text": [
      "TOTAL STREAMS\n",
      "23259610\n"
     ]
    }
   ],
   "source": [
    "total_streams = \"\"\"SELECT SUM(songplays.songplay_id) FROM songplays\"\"\"\n",
    "cur.execute(total_streams)\n",
    "results, = cur.fetchone()\n",
    "\n",
    "if results:\n",
    "    print(\"TOTAL STREAMS\")\n",
    "while results:\n",
    "    print(results)\n",
    "    results = cur.fetchone()"
   ]
  },
  {
   "cell_type": "code",
   "execution_count": 4,
   "metadata": {},
   "outputs": [
    {
     "name": "stdout",
     "output_type": "stream",
     "text": [
      "TOP 5 USERS WITH MOST LISTENS\n",
      "('Kate Harrell', 54029)\n",
      "('Tegan Levine', 53200)\n",
      "('Chloe Cuevas', 33761)\n",
      "('Mohammad Rodriguez', 23760)\n",
      "('Jacob Klein', 21097)\n"
     ]
    }
   ],
   "source": [
    "top_users_query = \"\"\"SELECT users.first_name || ' ' || users.last_name full_name, SUM(songplays.user_id) \\\n",
    "                     FROM (songplays JOIN users ON songplays.user_id=users.user_id) \\\n",
    "                     GROUP BY full_name \\\n",
    "                     ORDER BY SUM(songplays.user_id) DESC LIMIT 5;\"\"\"\n",
    "cur.execute(top_users_query)\n",
    "results = cur.fetchone()\n",
    "\n",
    "if results:\n",
    "    print(\"TOP 5 USERS WITH MOST LISTENS\")\n",
    "while results:\n",
    "    print(results)\n",
    "    results = cur.fetchone()"
   ]
  },
  {
   "cell_type": "code",
   "execution_count": 5,
   "metadata": {},
   "outputs": [
    {
     "name": "stdout",
     "output_type": "stream",
     "text": [
      "STREAMING COUNTS BY WEEK DAY\n",
      "('2', 5162472)\n",
      "('1', 4282254)\n",
      "('4', 3724965)\n",
      "('0', 3482037)\n",
      "('5', 3307005)\n",
      "('3', 3113176)\n",
      "('6', 187701)\n"
     ]
    }
   ],
   "source": [
    "top_weekday_query = \"\"\"SELECT time.weekday, SUM(songplays.songplay_id) \\\n",
    "                       FROM (songplays JOIN time ON time.start_time=songplays.start_time) \\\n",
    "                       GROUP BY time.weekday \\\n",
    "                       ORDER BY SUM(songplays.songplay_id) DESC;\"\"\"\n",
    "cur.execute(top_weekday_query)\n",
    "results = cur.fetchone()\n",
    "\n",
    "if results:\n",
    "    print(\"STREAMING COUNTS BY WEEK DAY\")\n",
    "while results:\n",
    "    print(results)\n",
    "    results = cur.fetchone()"
   ]
  },
  {
   "cell_type": "code",
   "execution_count": 6,
   "metadata": {},
   "outputs": [
    {
     "name": "stdout",
     "output_type": "stream",
     "text": [
      "STREAMING COUNTS BY ACCOUNT LEVEL\n",
      "('free', 3736127)\n",
      "('paid', 19523483)\n"
     ]
    }
   ],
   "source": [
    "user_level_query = \"\"\"SELECT songplays.level, SUM(songplays.songplay_id) \\\n",
    "                       FROM songplays \\\n",
    "                       GROUP BY songplays.level;\"\"\"\n",
    "cur.execute(user_level_query)\n",
    "results = cur.fetchone()\n",
    "\n",
    "if results:\n",
    "    print(\"STREAMING COUNTS BY ACCOUNT LEVEL\")\n",
    "while results:\n",
    "    print(results)\n",
    "    results = cur.fetchone()"
   ]
  },
  {
   "cell_type": "code",
   "execution_count": 7,
   "metadata": {},
   "outputs": [
    {
     "name": "stdout",
     "output_type": "stream",
     "text": [
      "TOP 5 STREAMING DAYS OF THE MONTH\n",
      "(21, 2338824)\n",
      "(28, 2143878)\n",
      "(24, 2092339)\n",
      "(16, 2024693)\n",
      "(15, 1798166)\n"
     ]
    }
   ],
   "source": [
    "top_days_query = \"\"\"SELECT time.day, SUM(songplays.songplay_id) \\\n",
    "                                FROM (songplays JOIN time ON songplays.start_time=time.start_time) \\\n",
    "                                GROUP BY time.day \\\n",
    "                                ORDER BY SUM(songplays.songplay_id) DESC LIMIT 5;\"\"\"\n",
    "cur.execute(top_days_query)\n",
    "results = cur.fetchone()\n",
    "\n",
    "if results:\n",
    "    print(\"TOP 5 STREAMING DAYS OF THE MONTH\")\n",
    "while results:\n",
    "    print(results)\n",
    "    results = cur.fetchone()"
   ]
  },
  {
   "cell_type": "code",
   "execution_count": null,
   "metadata": {},
   "outputs": [],
   "source": []
  }
 ],
 "metadata": {
  "kernelspec": {
   "display_name": "Python 3",
   "language": "python",
   "name": "python3"
  },
  "language_info": {
   "codemirror_mode": {
    "name": "ipython",
    "version": 3
   },
   "file_extension": ".py",
   "mimetype": "text/x-python",
   "name": "python",
   "nbconvert_exporter": "python",
   "pygments_lexer": "ipython3",
   "version": "3.7.10"
  }
 },
 "nbformat": 4,
 "nbformat_minor": 4
}
